{
 "cells": [
  {
   "cell_type": "code",
   "execution_count": null,
   "metadata": {},
   "outputs": [],
   "source": [
    "#hide"
   ]
  },
  {
   "cell_type": "markdown",
   "metadata": {},
   "source": [
    "# fastmtl\n",
    "\n",
    "> Multi-task learning utilities for fastai"
   ]
  },
  {
   "cell_type": "markdown",
   "metadata": {},
   "source": [
    "## Install"
   ]
  },
  {
   "cell_type": "markdown",
   "metadata": {},
   "source": [
    "`pip install fastmtl`"
   ]
  },
  {
   "cell_type": "markdown",
   "metadata": {},
   "source": [
    "## Usage"
   ]
  },
  {
   "cell_type": "markdown",
   "metadata": {},
   "source": [
    "### Loss"
   ]
  },
  {
   "cell_type": "markdown",
   "metadata": {},
   "source": [
    "Apply a loss function per model output and get weighted sum of them. For instance, if the first model output is for classification and the second model output is for regression,\n",
    "```py\n",
    "from fastmtl.loss import CombinedLoss\n",
    "loss_func = CombinedLoss(CrossEntropyLossFlat(), MSELossFlat(), weight=[1.0, 3.0])\n",
    "```"
   ]
  },
  {
   "cell_type": "markdown",
   "metadata": {},
   "source": [
    "### Metric"
   ]
  },
  {
   "cell_type": "markdown",
   "metadata": {},
   "source": [
    "Apply metrics for each model output. For instance, if we have a model making classification and regression, we can evaluate each model output with relevant metrics. Assuming that model outputs a tuple of tensors for classification and regression, respectively:\n",
    "\n",
    "```py\n",
    "from fastai.metrics import F1Score, R2Score\n",
    "from fastmtl.metric import mtl_metrics\n",
    "\n",
    "clf_f1_macro =  F1Score(average='macro')\n",
    "clf_f1_macro.name = 'clf_f1(macro)'\n",
    "clf_f1_micro =  F1Score(average='micro')\n",
    "clf_f1_micro.name = 'clf_f1(micro)'\n",
    "\n",
    "reg_r2 = R2Score()\n",
    "reg_r2.name = 'reg_r2'\n",
    "\n",
    "# metrics for classification in the first list \n",
    "# metrics for regression in the second list \n",
    "metrics = mtl_metrics([clf_f1_macro, clf_f1_micro], [reg_r2])\n",
    "\n",
    "learn = Learner(\n",
    "    ...\n",
    "    metrics=metrics,\n",
    ")\n",
    "```"
   ]
  },
  {
   "cell_type": "markdown",
   "metadata": {},
   "source": [
    "## Tutorials"
   ]
  },
  {
   "cell_type": "markdown",
   "metadata": {},
   "source": [
    "[Video distortion detection](https://bdsaglam.github.io/fastmtl/tutorial.vqa)"
   ]
  }
 ],
 "metadata": {
  "kernelspec": {
   "display_name": "Python 3.9.12 ('fastmtl')",
   "language": "python",
   "name": "python3"
  }
 },
 "nbformat": 4,
 "nbformat_minor": 2
}
